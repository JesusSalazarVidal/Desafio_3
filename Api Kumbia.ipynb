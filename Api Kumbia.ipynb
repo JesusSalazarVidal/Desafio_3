{
 "cells": [
  {
   "cell_type": "code",
   "execution_count": 57,
   "metadata": {},
   "outputs": [],
   "source": [
    "import requests \n",
    "\n",
    "api_url = \"http://localhost/Desafio3/municipios\""
   ]
  },
  {
   "cell_type": "markdown",
   "metadata": {},
   "source": [
    "Iniciamos sesion"
   ]
  },
  {
   "cell_type": "code",
   "execution_count": 18,
   "metadata": {},
   "outputs": [
    {
     "data": {
      "text/plain": [
       "'OK'"
      ]
     },
     "execution_count": 18,
     "metadata": {},
     "output_type": "execute_result"
    }
   ],
   "source": [
    "s = requests.Session()\n",
    "credenciales = {\"nombre\": \"jesus\", \"pass\": \"1234\"}\n",
    "s.post(api_url + '/log/login', json= credenciales)\n",
    "\n"
   ]
  },
  {
   "cell_type": "markdown",
   "metadata": {},
   "source": [
    "## Obtener registros"
   ]
  },
  {
   "cell_type": "code",
   "execution_count": 60,
   "metadata": {},
   "outputs": [
    {
     "data": {
      "text/plain": [
       "[{'id': '3', 'nombre': 'Celaya', 'habitantes': '9000', 'tipo': ''},\n",
       " {'id': '4', 'nombre': 'Guanajuato', 'habitantes': '3455', 'tipo': ''},\n",
       " {'id': '5', 'nombre': 'Atarjea9', 'habitantes': '15000', 'tipo': 'urbano'},\n",
       " {'id': '6', 'nombre': 'Salvatierra', 'habitantes': '12345', 'tipo': '2'},\n",
       " {'id': '7', 'nombre': 'San Felipe', 'habitantes': '29000', 'tipo': 'urbano'},\n",
       " {'id': '8', 'nombre': 'Xichu', 'habitantes': '15000', 'tipo': 'rural'},\n",
       " {'id': '9', 'nombre': 'Cortazar', 'habitantes': '25000', 'tipo': 'urbano'},\n",
       " {'id': '10', 'nombre': 'Cortazar', 'habitantes': '25000', 'tipo': 'urbano'},\n",
       " {'id': '11', 'nombre': 'Atarjea', 'habitantes': '15000', 'tipo': 'urbano'},\n",
       " {'id': '15', 'nombre': 'Holi', 'habitantes': '15000', 'tipo': 'urbano'},\n",
       " {'id': '16', 'nombre': 'Atarjea2', 'habitantes': '15000', 'tipo': 'urbano'},\n",
       " {'id': '17',\n",
       "  'nombre': 'Dolores Hidalgo',\n",
       "  'habitantes': '67000',\n",
       "  'tipo': 'urbano'},\n",
       " {'id': '18',\n",
       "  'nombre': 'Dolores Hidalgo',\n",
       "  'habitantes': '67000',\n",
       "  'tipo': 'urbano'},\n",
       " {'id': '19', 'nombre': 'Abasolo', 'habitantes': '50000', 'tipo': 'urbano'},\n",
       " {'id': '22', 'nombre': 'Yuriria', 'habitantes': '67000', 'tipo': 'urbano'}]"
      ]
     },
     "execution_count": 60,
     "metadata": {},
     "output_type": "execute_result"
    }
   ],
   "source": [
    "datos = s.get(api_url)\n",
    "datos.json()"
   ]
  },
  {
   "cell_type": "markdown",
   "metadata": {},
   "source": [
    "## Registrar"
   ]
  },
  {
   "cell_type": "code",
   "execution_count": 59,
   "metadata": {},
   "outputs": [
    {
     "data": {
      "text/plain": [
       "{'message': 'Registro Exitoso',\n",
       " 'data': {'nombre': 'Yuriria',\n",
       "  'habitantes': '67000',\n",
       "  'tipo': 'urbano',\n",
       "  'id': '22'}}"
      ]
     },
     "execution_count": 59,
     "metadata": {},
     "output_type": "execute_result"
    }
   ],
   "source": [
    "municipioNuevo = {'nombre': 'Yuriria', 'habitantes': '67000', 'tipo': 'urbano'}\n",
    "\n",
    "registro = s.put(api_url, json = municipioNuevo)\n",
    "registro.json()"
   ]
  },
  {
   "cell_type": "markdown",
   "metadata": {},
   "source": [
    "## Eliminar"
   ]
  },
  {
   "cell_type": "code",
   "execution_count": 52,
   "metadata": {},
   "outputs": [
    {
     "data": {
      "text/plain": [
       "{'message': 'Registro Eliminado'}"
      ]
     },
     "execution_count": 52,
     "metadata": {},
     "output_type": "execute_result"
    }
   ],
   "source": [
    "eliminar = s.delete(api_url + '/14')\n",
    "eliminar.json()"
   ]
  },
  {
   "cell_type": "markdown",
   "metadata": {},
   "source": [
    "## Editar"
   ]
  },
  {
   "cell_type": "code",
   "execution_count": 51,
   "metadata": {},
   "outputs": [
    {
     "data": {
      "text/plain": [
       "{'message': 'Registro actualizado',\n",
       " 'Resitro a actualizar': {'id': '19',\n",
       "  'nombre': 'Dolores Hidalgo',\n",
       "  'habitantes': '67000',\n",
       "  'tipo': 'urbano'},\n",
       " 'Nuevos datos': {'id': '19',\n",
       "  'nombre': 'Abasolo',\n",
       "  'habitantes': '50000',\n",
       "  'tipo': 'urbano'}}"
      ]
     },
     "execution_count": 51,
     "metadata": {},
     "output_type": "execute_result"
    }
   ],
   "source": [
    "datos = {'nombre': 'Abasolo', 'habitantes': '50000', 'tipo': 'urbano'}\n",
    "editar = s.patch(api_url + '/19', json= datos)\n",
    "editar.json()"
   ]
  },
  {
   "cell_type": "code",
   "execution_count": null,
   "metadata": {},
   "outputs": [],
   "source": []
  }
 ],
 "metadata": {
  "kernelspec": {
   "display_name": "Python 3",
   "language": "python",
   "name": "python3"
  },
  "language_info": {
   "codemirror_mode": {
    "name": "ipython",
    "version": 3
   },
   "file_extension": ".py",
   "mimetype": "text/x-python",
   "name": "python",
   "nbconvert_exporter": "python",
   "pygments_lexer": "ipython3",
   "version": "3.8.5"
  }
 },
 "nbformat": 4,
 "nbformat_minor": 4
}
